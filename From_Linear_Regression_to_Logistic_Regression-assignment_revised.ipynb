{
 "cells": [
  {
   "cell_type": "markdown",
   "metadata": {},
   "source": [
    "# From Linear Regression to Logistic Regression"
   ]
  },
  {
   "cell_type": "markdown",
   "metadata": {},
   "source": [
    "From this project, you will learn:\n",
    "*  How to do linear regression\n",
    "*  What is the limitation of linear regression\n",
    "*  Why do we need logistic regression\n",
    "*  How to do logistic regression in real data"
   ]
  },
  {
   "cell_type": "markdown",
   "metadata": {},
   "source": [
    "# Let's begin!"
   ]
  },
  {
   "cell_type": "markdown",
   "metadata": {},
   "source": [
    "Import necessary package first"
   ]
  },
  {
   "cell_type": "code",
   "execution_count": 1,
   "metadata": {
    "collapsed": true
   },
   "outputs": [],
   "source": [
    "import pandas as pd\n",
    "from pandas import DataFrame\n",
    "import numpy as np\n",
    "import matplotlib.pyplot as plt\n",
    "%matplotlib inline"
   ]
  },
  {
   "cell_type": "markdown",
   "metadata": {},
   "source": [
    "<h2>Explore the data</h2>"
   ]
  },
  {
   "cell_type": "markdown",
   "metadata": {},
   "source": [
    "Data Description\n",
    "*  Rocks vs Mines (https://archive.ics.uci.edu/ml/datasets/Connectionist+Bench+(Sonar,+Mines+vs.+Rocks))\n",
    "*  Independent variables: sonar soundings at different frequencies\n",
    "*  Dependent variable (target): Rock or Mine"
   ]
  },
  {
   "cell_type": "code",
   "execution_count": 3,
   "metadata": {},
   "outputs": [
    {
     "name": "stdout",
     "output_type": "stream",
     "text": [
      "<class 'pandas.core.frame.DataFrame'>\n",
      "RangeIndex: 207 entries, 0 to 206\n",
      "Data columns (total 61 columns):\n",
      "0.0200    207 non-null float64\n",
      "0.0371    207 non-null float64\n",
      "0.0428    207 non-null float64\n",
      "0.0207    207 non-null float64\n",
      "0.0954    207 non-null float64\n",
      "0.0986    207 non-null float64\n",
      "0.1539    207 non-null float64\n",
      "0.1601    207 non-null float64\n",
      "0.3109    207 non-null float64\n",
      "0.2111    207 non-null float64\n",
      "0.1609    207 non-null float64\n",
      "0.1582    207 non-null float64\n",
      "0.2238    207 non-null float64\n",
      "0.0645    207 non-null float64\n",
      "0.0660    207 non-null float64\n",
      "0.2273    207 non-null float64\n",
      "0.3100    207 non-null float64\n",
      "0.2999    207 non-null float64\n",
      "0.5078    207 non-null float64\n",
      "0.4797    207 non-null float64\n",
      "0.5783    207 non-null float64\n",
      "0.5071    207 non-null float64\n",
      "0.4328    207 non-null float64\n",
      "0.5550    207 non-null float64\n",
      "0.6711    207 non-null float64\n",
      "0.6415    207 non-null float64\n",
      "0.7104    207 non-null float64\n",
      "0.8080    207 non-null float64\n",
      "0.6791    207 non-null float64\n",
      "0.3857    207 non-null float64\n",
      "0.1307    207 non-null float64\n",
      "0.2604    207 non-null float64\n",
      "0.5121    207 non-null float64\n",
      "0.7547    207 non-null float64\n",
      "0.8537    207 non-null float64\n",
      "0.8507    207 non-null float64\n",
      "0.6692    207 non-null float64\n",
      "0.6097    207 non-null float64\n",
      "0.4943    207 non-null float64\n",
      "0.2744    207 non-null float64\n",
      "0.0510    207 non-null float64\n",
      "0.2834    207 non-null float64\n",
      "0.2825    207 non-null float64\n",
      "0.4256    207 non-null float64\n",
      "0.2641    207 non-null float64\n",
      "0.1386    207 non-null float64\n",
      "0.1051    207 non-null float64\n",
      "0.1343    207 non-null float64\n",
      "0.0383    207 non-null float64\n",
      "0.0324    207 non-null float64\n",
      "0.0232    207 non-null float64\n",
      "0.0027    207 non-null float64\n",
      "0.0065    207 non-null float64\n",
      "0.0159    207 non-null float64\n",
      "0.0072    207 non-null float64\n",
      "0.0167    207 non-null float64\n",
      "0.0180    207 non-null float64\n",
      "0.0084    207 non-null float64\n",
      "0.0090    207 non-null float64\n",
      "0.0032    207 non-null float64\n",
      "R         207 non-null object\n",
      "dtypes: float64(60), object(1)\n",
      "memory usage: 98.7+ KB\n"
     ]
    }
   ],
   "source": [
    "url=\"https://archive.ics.uci.edu/ml/machine-learning-databases/undocumented/connectionist-bench/sonar/sonar.all-data\"\n",
    "df = pd.read_csv(url) #Your code here\n",
    "print(\"Shape of the dataset: \",df.shape )\n",
    "print(\"Number of unique values in each column: \",df.nunique())\n",
    "print(\"Shape of the dataset: \",df.shape )\n",
    "\n",
    "\n"
   ]
  },
  {
   "cell_type": "markdown",
   "metadata": {},
   "source": [
    "We can see that:\n",
    "<li>60 float64 columns. These are the sonar readings and will form our feature set\n",
    "<li>One object column. This will be our target/output/dependent variable"
   ]
  },
  {
   "cell_type": "markdown",
   "metadata": {},
   "source": [
    "<h2>Generate a few summary statistics</h2>"
   ]
  },
  {
   "cell_type": "markdown",
   "metadata": {},
   "source": [
    "<h4>See all columns first</h4>"
   ]
  },
  {
   "cell_type": "code",
   "execution_count": 3,
   "metadata": {},
   "outputs": [
    {
     "data": {
      "text/html": [
       "<div>\n",
       "<style scoped>\n",
       "    .dataframe tbody tr th:only-of-type {\n",
       "        vertical-align: middle;\n",
       "    }\n",
       "\n",
       "    .dataframe tbody tr th {\n",
       "        vertical-align: top;\n",
       "    }\n",
       "\n",
       "    .dataframe thead th {\n",
       "        text-align: right;\n",
       "    }\n",
       "</style>\n",
       "<table border=\"1\" class=\"dataframe\">\n",
       "  <thead>\n",
       "    <tr style=\"text-align: right;\">\n",
       "      <th></th>\n",
       "      <th>0</th>\n",
       "      <th>1</th>\n",
       "      <th>2</th>\n",
       "      <th>3</th>\n",
       "      <th>4</th>\n",
       "      <th>5</th>\n",
       "      <th>6</th>\n",
       "      <th>7</th>\n",
       "      <th>8</th>\n",
       "      <th>9</th>\n",
       "      <th>10</th>\n",
       "      <th>11</th>\n",
       "      <th>12</th>\n",
       "      <th>13</th>\n",
       "      <th>14</th>\n",
       "      <th>15</th>\n",
       "      <th>16</th>\n",
       "      <th>17</th>\n",
       "      <th>18</th>\n",
       "      <th>19</th>\n",
       "      <th>20</th>\n",
       "      <th>21</th>\n",
       "      <th>22</th>\n",
       "      <th>23</th>\n",
       "      <th>24</th>\n",
       "      <th>25</th>\n",
       "      <th>26</th>\n",
       "      <th>27</th>\n",
       "      <th>28</th>\n",
       "      <th>29</th>\n",
       "      <th>30</th>\n",
       "      <th>31</th>\n",
       "      <th>32</th>\n",
       "      <th>33</th>\n",
       "      <th>34</th>\n",
       "      <th>35</th>\n",
       "      <th>36</th>\n",
       "      <th>37</th>\n",
       "      <th>38</th>\n",
       "      <th>39</th>\n",
       "      <th>40</th>\n",
       "      <th>41</th>\n",
       "      <th>42</th>\n",
       "      <th>43</th>\n",
       "      <th>44</th>\n",
       "      <th>45</th>\n",
       "      <th>46</th>\n",
       "      <th>47</th>\n",
       "      <th>48</th>\n",
       "      <th>49</th>\n",
       "      <th>50</th>\n",
       "      <th>51</th>\n",
       "      <th>52</th>\n",
       "      <th>53</th>\n",
       "      <th>54</th>\n",
       "      <th>55</th>\n",
       "      <th>56</th>\n",
       "      <th>57</th>\n",
       "      <th>58</th>\n",
       "      <th>59</th>\n",
       "    </tr>\n",
       "  </thead>\n",
       "  <tbody>\n",
       "    <tr>\n",
       "      <th>count</th>\n",
       "      <td>208.000000</td>\n",
       "      <td>208.000000</td>\n",
       "      <td>208.000000</td>\n",
       "      <td>208.000000</td>\n",
       "      <td>208.000000</td>\n",
       "      <td>208.000000</td>\n",
       "      <td>208.000000</td>\n",
       "      <td>208.000000</td>\n",
       "      <td>208.000000</td>\n",
       "      <td>208.000000</td>\n",
       "      <td>208.000000</td>\n",
       "      <td>208.000000</td>\n",
       "      <td>208.000000</td>\n",
       "      <td>208.000000</td>\n",
       "      <td>208.000000</td>\n",
       "      <td>208.000000</td>\n",
       "      <td>208.000000</td>\n",
       "      <td>208.000000</td>\n",
       "      <td>208.000000</td>\n",
       "      <td>208.000000</td>\n",
       "      <td>208.000000</td>\n",
       "      <td>208.000000</td>\n",
       "      <td>208.000000</td>\n",
       "      <td>208.000000</td>\n",
       "      <td>208.000000</td>\n",
       "      <td>208.000000</td>\n",
       "      <td>208.000000</td>\n",
       "      <td>208.000000</td>\n",
       "      <td>208.000000</td>\n",
       "      <td>208.000000</td>\n",
       "      <td>208.000000</td>\n",
       "      <td>208.000000</td>\n",
       "      <td>208.000000</td>\n",
       "      <td>208.000000</td>\n",
       "      <td>208.000000</td>\n",
       "      <td>208.000000</td>\n",
       "      <td>208.000000</td>\n",
       "      <td>208.000000</td>\n",
       "      <td>208.000000</td>\n",
       "      <td>208.000000</td>\n",
       "      <td>208.000000</td>\n",
       "      <td>208.000000</td>\n",
       "      <td>208.000000</td>\n",
       "      <td>208.000000</td>\n",
       "      <td>208.000000</td>\n",
       "      <td>208.000000</td>\n",
       "      <td>208.000000</td>\n",
       "      <td>208.000000</td>\n",
       "      <td>208.000000</td>\n",
       "      <td>208.000000</td>\n",
       "      <td>208.000000</td>\n",
       "      <td>208.000000</td>\n",
       "      <td>208.000000</td>\n",
       "      <td>208.000000</td>\n",
       "      <td>208.000000</td>\n",
       "      <td>208.000000</td>\n",
       "      <td>208.000000</td>\n",
       "      <td>208.000000</td>\n",
       "      <td>208.000000</td>\n",
       "      <td>208.000000</td>\n",
       "    </tr>\n",
       "    <tr>\n",
       "      <th>mean</th>\n",
       "      <td>0.029164</td>\n",
       "      <td>0.038437</td>\n",
       "      <td>0.043832</td>\n",
       "      <td>0.053892</td>\n",
       "      <td>0.075202</td>\n",
       "      <td>0.104570</td>\n",
       "      <td>0.121747</td>\n",
       "      <td>0.134799</td>\n",
       "      <td>0.178003</td>\n",
       "      <td>0.208259</td>\n",
       "      <td>0.236013</td>\n",
       "      <td>0.250221</td>\n",
       "      <td>0.273305</td>\n",
       "      <td>0.296568</td>\n",
       "      <td>0.320201</td>\n",
       "      <td>0.378487</td>\n",
       "      <td>0.415983</td>\n",
       "      <td>0.452318</td>\n",
       "      <td>0.504812</td>\n",
       "      <td>0.563047</td>\n",
       "      <td>0.609060</td>\n",
       "      <td>0.624275</td>\n",
       "      <td>0.646975</td>\n",
       "      <td>0.672654</td>\n",
       "      <td>0.675424</td>\n",
       "      <td>0.699866</td>\n",
       "      <td>0.702155</td>\n",
       "      <td>0.694024</td>\n",
       "      <td>0.642074</td>\n",
       "      <td>0.580928</td>\n",
       "      <td>0.504475</td>\n",
       "      <td>0.439040</td>\n",
       "      <td>0.417220</td>\n",
       "      <td>0.403233</td>\n",
       "      <td>0.392571</td>\n",
       "      <td>0.384848</td>\n",
       "      <td>0.363807</td>\n",
       "      <td>0.339657</td>\n",
       "      <td>0.325800</td>\n",
       "      <td>0.311207</td>\n",
       "      <td>0.289252</td>\n",
       "      <td>0.278293</td>\n",
       "      <td>0.246542</td>\n",
       "      <td>0.214075</td>\n",
       "      <td>0.197232</td>\n",
       "      <td>0.160631</td>\n",
       "      <td>0.122453</td>\n",
       "      <td>0.091424</td>\n",
       "      <td>0.051929</td>\n",
       "      <td>0.020424</td>\n",
       "      <td>0.016069</td>\n",
       "      <td>0.013420</td>\n",
       "      <td>0.010709</td>\n",
       "      <td>0.010941</td>\n",
       "      <td>0.009290</td>\n",
       "      <td>0.008222</td>\n",
       "      <td>0.007820</td>\n",
       "      <td>0.007949</td>\n",
       "      <td>0.007941</td>\n",
       "      <td>0.006507</td>\n",
       "    </tr>\n",
       "    <tr>\n",
       "      <th>std</th>\n",
       "      <td>0.022991</td>\n",
       "      <td>0.032960</td>\n",
       "      <td>0.038428</td>\n",
       "      <td>0.046528</td>\n",
       "      <td>0.055552</td>\n",
       "      <td>0.059105</td>\n",
       "      <td>0.061788</td>\n",
       "      <td>0.085152</td>\n",
       "      <td>0.118387</td>\n",
       "      <td>0.134416</td>\n",
       "      <td>0.132705</td>\n",
       "      <td>0.140072</td>\n",
       "      <td>0.140962</td>\n",
       "      <td>0.164474</td>\n",
       "      <td>0.205427</td>\n",
       "      <td>0.232650</td>\n",
       "      <td>0.263677</td>\n",
       "      <td>0.261529</td>\n",
       "      <td>0.257988</td>\n",
       "      <td>0.262653</td>\n",
       "      <td>0.257818</td>\n",
       "      <td>0.255883</td>\n",
       "      <td>0.250175</td>\n",
       "      <td>0.239116</td>\n",
       "      <td>0.244926</td>\n",
       "      <td>0.237228</td>\n",
       "      <td>0.245657</td>\n",
       "      <td>0.237189</td>\n",
       "      <td>0.240250</td>\n",
       "      <td>0.220749</td>\n",
       "      <td>0.213992</td>\n",
       "      <td>0.213237</td>\n",
       "      <td>0.206513</td>\n",
       "      <td>0.231242</td>\n",
       "      <td>0.259132</td>\n",
       "      <td>0.264121</td>\n",
       "      <td>0.239912</td>\n",
       "      <td>0.212973</td>\n",
       "      <td>0.199075</td>\n",
       "      <td>0.178662</td>\n",
       "      <td>0.171111</td>\n",
       "      <td>0.168728</td>\n",
       "      <td>0.138993</td>\n",
       "      <td>0.133291</td>\n",
       "      <td>0.151628</td>\n",
       "      <td>0.133938</td>\n",
       "      <td>0.086953</td>\n",
       "      <td>0.062417</td>\n",
       "      <td>0.035954</td>\n",
       "      <td>0.013665</td>\n",
       "      <td>0.012008</td>\n",
       "      <td>0.009634</td>\n",
       "      <td>0.007060</td>\n",
       "      <td>0.007301</td>\n",
       "      <td>0.007088</td>\n",
       "      <td>0.005736</td>\n",
       "      <td>0.005785</td>\n",
       "      <td>0.006470</td>\n",
       "      <td>0.006181</td>\n",
       "      <td>0.005031</td>\n",
       "    </tr>\n",
       "    <tr>\n",
       "      <th>min</th>\n",
       "      <td>0.001500</td>\n",
       "      <td>0.000600</td>\n",
       "      <td>0.001500</td>\n",
       "      <td>0.005800</td>\n",
       "      <td>0.006700</td>\n",
       "      <td>0.010200</td>\n",
       "      <td>0.003300</td>\n",
       "      <td>0.005500</td>\n",
       "      <td>0.007500</td>\n",
       "      <td>0.011300</td>\n",
       "      <td>0.028900</td>\n",
       "      <td>0.023600</td>\n",
       "      <td>0.018400</td>\n",
       "      <td>0.027300</td>\n",
       "      <td>0.003100</td>\n",
       "      <td>0.016200</td>\n",
       "      <td>0.034900</td>\n",
       "      <td>0.037500</td>\n",
       "      <td>0.049400</td>\n",
       "      <td>0.065600</td>\n",
       "      <td>0.051200</td>\n",
       "      <td>0.021900</td>\n",
       "      <td>0.056300</td>\n",
       "      <td>0.023900</td>\n",
       "      <td>0.024000</td>\n",
       "      <td>0.092100</td>\n",
       "      <td>0.048100</td>\n",
       "      <td>0.028400</td>\n",
       "      <td>0.014400</td>\n",
       "      <td>0.061300</td>\n",
       "      <td>0.048200</td>\n",
       "      <td>0.040400</td>\n",
       "      <td>0.047700</td>\n",
       "      <td>0.021200</td>\n",
       "      <td>0.022300</td>\n",
       "      <td>0.008000</td>\n",
       "      <td>0.035100</td>\n",
       "      <td>0.038300</td>\n",
       "      <td>0.037100</td>\n",
       "      <td>0.011700</td>\n",
       "      <td>0.036000</td>\n",
       "      <td>0.005600</td>\n",
       "      <td>0.000000</td>\n",
       "      <td>0.000000</td>\n",
       "      <td>0.000000</td>\n",
       "      <td>0.000000</td>\n",
       "      <td>0.000000</td>\n",
       "      <td>0.000000</td>\n",
       "      <td>0.000000</td>\n",
       "      <td>0.000000</td>\n",
       "      <td>0.000000</td>\n",
       "      <td>0.000800</td>\n",
       "      <td>0.000500</td>\n",
       "      <td>0.001000</td>\n",
       "      <td>0.000600</td>\n",
       "      <td>0.000400</td>\n",
       "      <td>0.000300</td>\n",
       "      <td>0.000300</td>\n",
       "      <td>0.000100</td>\n",
       "      <td>0.000600</td>\n",
       "    </tr>\n",
       "    <tr>\n",
       "      <th>25%</th>\n",
       "      <td>0.013350</td>\n",
       "      <td>0.016450</td>\n",
       "      <td>0.018950</td>\n",
       "      <td>0.024375</td>\n",
       "      <td>0.038050</td>\n",
       "      <td>0.067025</td>\n",
       "      <td>0.080900</td>\n",
       "      <td>0.080425</td>\n",
       "      <td>0.097025</td>\n",
       "      <td>0.111275</td>\n",
       "      <td>0.129250</td>\n",
       "      <td>0.133475</td>\n",
       "      <td>0.166125</td>\n",
       "      <td>0.175175</td>\n",
       "      <td>0.164625</td>\n",
       "      <td>0.196300</td>\n",
       "      <td>0.205850</td>\n",
       "      <td>0.242075</td>\n",
       "      <td>0.299075</td>\n",
       "      <td>0.350625</td>\n",
       "      <td>0.399725</td>\n",
       "      <td>0.406925</td>\n",
       "      <td>0.450225</td>\n",
       "      <td>0.540725</td>\n",
       "      <td>0.525800</td>\n",
       "      <td>0.544175</td>\n",
       "      <td>0.531900</td>\n",
       "      <td>0.534775</td>\n",
       "      <td>0.463700</td>\n",
       "      <td>0.411400</td>\n",
       "      <td>0.345550</td>\n",
       "      <td>0.281400</td>\n",
       "      <td>0.257875</td>\n",
       "      <td>0.217575</td>\n",
       "      <td>0.179375</td>\n",
       "      <td>0.154350</td>\n",
       "      <td>0.160100</td>\n",
       "      <td>0.174275</td>\n",
       "      <td>0.173975</td>\n",
       "      <td>0.186450</td>\n",
       "      <td>0.163100</td>\n",
       "      <td>0.158900</td>\n",
       "      <td>0.155200</td>\n",
       "      <td>0.126875</td>\n",
       "      <td>0.094475</td>\n",
       "      <td>0.068550</td>\n",
       "      <td>0.064250</td>\n",
       "      <td>0.045125</td>\n",
       "      <td>0.026350</td>\n",
       "      <td>0.011550</td>\n",
       "      <td>0.008425</td>\n",
       "      <td>0.007275</td>\n",
       "      <td>0.005075</td>\n",
       "      <td>0.005375</td>\n",
       "      <td>0.004150</td>\n",
       "      <td>0.004400</td>\n",
       "      <td>0.003700</td>\n",
       "      <td>0.003600</td>\n",
       "      <td>0.003675</td>\n",
       "      <td>0.003100</td>\n",
       "    </tr>\n",
       "    <tr>\n",
       "      <th>50%</th>\n",
       "      <td>0.022800</td>\n",
       "      <td>0.030800</td>\n",
       "      <td>0.034300</td>\n",
       "      <td>0.044050</td>\n",
       "      <td>0.062500</td>\n",
       "      <td>0.092150</td>\n",
       "      <td>0.106950</td>\n",
       "      <td>0.112100</td>\n",
       "      <td>0.152250</td>\n",
       "      <td>0.182400</td>\n",
       "      <td>0.224800</td>\n",
       "      <td>0.249050</td>\n",
       "      <td>0.263950</td>\n",
       "      <td>0.281100</td>\n",
       "      <td>0.281700</td>\n",
       "      <td>0.304700</td>\n",
       "      <td>0.308400</td>\n",
       "      <td>0.368300</td>\n",
       "      <td>0.434950</td>\n",
       "      <td>0.542500</td>\n",
       "      <td>0.617700</td>\n",
       "      <td>0.664900</td>\n",
       "      <td>0.699700</td>\n",
       "      <td>0.698500</td>\n",
       "      <td>0.721100</td>\n",
       "      <td>0.754500</td>\n",
       "      <td>0.745600</td>\n",
       "      <td>0.731900</td>\n",
       "      <td>0.680800</td>\n",
       "      <td>0.607150</td>\n",
       "      <td>0.490350</td>\n",
       "      <td>0.429600</td>\n",
       "      <td>0.391200</td>\n",
       "      <td>0.351050</td>\n",
       "      <td>0.312750</td>\n",
       "      <td>0.321150</td>\n",
       "      <td>0.306300</td>\n",
       "      <td>0.312700</td>\n",
       "      <td>0.283500</td>\n",
       "      <td>0.278050</td>\n",
       "      <td>0.259500</td>\n",
       "      <td>0.245100</td>\n",
       "      <td>0.222550</td>\n",
       "      <td>0.177700</td>\n",
       "      <td>0.148000</td>\n",
       "      <td>0.121350</td>\n",
       "      <td>0.101650</td>\n",
       "      <td>0.078100</td>\n",
       "      <td>0.044700</td>\n",
       "      <td>0.017900</td>\n",
       "      <td>0.013900</td>\n",
       "      <td>0.011400</td>\n",
       "      <td>0.009550</td>\n",
       "      <td>0.009300</td>\n",
       "      <td>0.007500</td>\n",
       "      <td>0.006850</td>\n",
       "      <td>0.005950</td>\n",
       "      <td>0.005800</td>\n",
       "      <td>0.006400</td>\n",
       "      <td>0.005300</td>\n",
       "    </tr>\n",
       "    <tr>\n",
       "      <th>75%</th>\n",
       "      <td>0.035550</td>\n",
       "      <td>0.047950</td>\n",
       "      <td>0.057950</td>\n",
       "      <td>0.064500</td>\n",
       "      <td>0.100275</td>\n",
       "      <td>0.134125</td>\n",
       "      <td>0.154000</td>\n",
       "      <td>0.169600</td>\n",
       "      <td>0.233425</td>\n",
       "      <td>0.268700</td>\n",
       "      <td>0.301650</td>\n",
       "      <td>0.331250</td>\n",
       "      <td>0.351250</td>\n",
       "      <td>0.386175</td>\n",
       "      <td>0.452925</td>\n",
       "      <td>0.535725</td>\n",
       "      <td>0.659425</td>\n",
       "      <td>0.679050</td>\n",
       "      <td>0.731400</td>\n",
       "      <td>0.809325</td>\n",
       "      <td>0.816975</td>\n",
       "      <td>0.831975</td>\n",
       "      <td>0.848575</td>\n",
       "      <td>0.872175</td>\n",
       "      <td>0.873725</td>\n",
       "      <td>0.893800</td>\n",
       "      <td>0.917100</td>\n",
       "      <td>0.900275</td>\n",
       "      <td>0.852125</td>\n",
       "      <td>0.735175</td>\n",
       "      <td>0.641950</td>\n",
       "      <td>0.580300</td>\n",
       "      <td>0.556125</td>\n",
       "      <td>0.596125</td>\n",
       "      <td>0.593350</td>\n",
       "      <td>0.556525</td>\n",
       "      <td>0.518900</td>\n",
       "      <td>0.440550</td>\n",
       "      <td>0.434900</td>\n",
       "      <td>0.424350</td>\n",
       "      <td>0.387525</td>\n",
       "      <td>0.384250</td>\n",
       "      <td>0.324525</td>\n",
       "      <td>0.271750</td>\n",
       "      <td>0.231550</td>\n",
       "      <td>0.200375</td>\n",
       "      <td>0.154425</td>\n",
       "      <td>0.120100</td>\n",
       "      <td>0.068525</td>\n",
       "      <td>0.025275</td>\n",
       "      <td>0.020825</td>\n",
       "      <td>0.016725</td>\n",
       "      <td>0.014900</td>\n",
       "      <td>0.014500</td>\n",
       "      <td>0.012100</td>\n",
       "      <td>0.010575</td>\n",
       "      <td>0.010425</td>\n",
       "      <td>0.010350</td>\n",
       "      <td>0.010325</td>\n",
       "      <td>0.008525</td>\n",
       "    </tr>\n",
       "    <tr>\n",
       "      <th>max</th>\n",
       "      <td>0.137100</td>\n",
       "      <td>0.233900</td>\n",
       "      <td>0.305900</td>\n",
       "      <td>0.426400</td>\n",
       "      <td>0.401000</td>\n",
       "      <td>0.382300</td>\n",
       "      <td>0.372900</td>\n",
       "      <td>0.459000</td>\n",
       "      <td>0.682800</td>\n",
       "      <td>0.710600</td>\n",
       "      <td>0.734200</td>\n",
       "      <td>0.706000</td>\n",
       "      <td>0.713100</td>\n",
       "      <td>0.997000</td>\n",
       "      <td>1.000000</td>\n",
       "      <td>0.998800</td>\n",
       "      <td>1.000000</td>\n",
       "      <td>1.000000</td>\n",
       "      <td>1.000000</td>\n",
       "      <td>1.000000</td>\n",
       "      <td>1.000000</td>\n",
       "      <td>1.000000</td>\n",
       "      <td>1.000000</td>\n",
       "      <td>1.000000</td>\n",
       "      <td>1.000000</td>\n",
       "      <td>1.000000</td>\n",
       "      <td>1.000000</td>\n",
       "      <td>1.000000</td>\n",
       "      <td>1.000000</td>\n",
       "      <td>1.000000</td>\n",
       "      <td>0.965700</td>\n",
       "      <td>0.930600</td>\n",
       "      <td>1.000000</td>\n",
       "      <td>0.964700</td>\n",
       "      <td>1.000000</td>\n",
       "      <td>1.000000</td>\n",
       "      <td>0.949700</td>\n",
       "      <td>1.000000</td>\n",
       "      <td>0.985700</td>\n",
       "      <td>0.929700</td>\n",
       "      <td>0.899500</td>\n",
       "      <td>0.824600</td>\n",
       "      <td>0.773300</td>\n",
       "      <td>0.776200</td>\n",
       "      <td>0.703400</td>\n",
       "      <td>0.729200</td>\n",
       "      <td>0.552200</td>\n",
       "      <td>0.333900</td>\n",
       "      <td>0.198100</td>\n",
       "      <td>0.082500</td>\n",
       "      <td>0.100400</td>\n",
       "      <td>0.070900</td>\n",
       "      <td>0.039000</td>\n",
       "      <td>0.035200</td>\n",
       "      <td>0.044700</td>\n",
       "      <td>0.039400</td>\n",
       "      <td>0.035500</td>\n",
       "      <td>0.044000</td>\n",
       "      <td>0.036400</td>\n",
       "      <td>0.043900</td>\n",
       "    </tr>\n",
       "  </tbody>\n",
       "</table>\n",
       "</div>"
      ],
      "text/plain": [
       "               0           1           2           3           4           5   \\\n",
       "count  208.000000  208.000000  208.000000  208.000000  208.000000  208.000000   \n",
       "mean     0.029164    0.038437    0.043832    0.053892    0.075202    0.104570   \n",
       "std      0.022991    0.032960    0.038428    0.046528    0.055552    0.059105   \n",
       "min      0.001500    0.000600    0.001500    0.005800    0.006700    0.010200   \n",
       "25%      0.013350    0.016450    0.018950    0.024375    0.038050    0.067025   \n",
       "50%      0.022800    0.030800    0.034300    0.044050    0.062500    0.092150   \n",
       "75%      0.035550    0.047950    0.057950    0.064500    0.100275    0.134125   \n",
       "max      0.137100    0.233900    0.305900    0.426400    0.401000    0.382300   \n",
       "\n",
       "               6           7           8           9           10          11  \\\n",
       "count  208.000000  208.000000  208.000000  208.000000  208.000000  208.000000   \n",
       "mean     0.121747    0.134799    0.178003    0.208259    0.236013    0.250221   \n",
       "std      0.061788    0.085152    0.118387    0.134416    0.132705    0.140072   \n",
       "min      0.003300    0.005500    0.007500    0.011300    0.028900    0.023600   \n",
       "25%      0.080900    0.080425    0.097025    0.111275    0.129250    0.133475   \n",
       "50%      0.106950    0.112100    0.152250    0.182400    0.224800    0.249050   \n",
       "75%      0.154000    0.169600    0.233425    0.268700    0.301650    0.331250   \n",
       "max      0.372900    0.459000    0.682800    0.710600    0.734200    0.706000   \n",
       "\n",
       "               12          13          14          15          16          17  \\\n",
       "count  208.000000  208.000000  208.000000  208.000000  208.000000  208.000000   \n",
       "mean     0.273305    0.296568    0.320201    0.378487    0.415983    0.452318   \n",
       "std      0.140962    0.164474    0.205427    0.232650    0.263677    0.261529   \n",
       "min      0.018400    0.027300    0.003100    0.016200    0.034900    0.037500   \n",
       "25%      0.166125    0.175175    0.164625    0.196300    0.205850    0.242075   \n",
       "50%      0.263950    0.281100    0.281700    0.304700    0.308400    0.368300   \n",
       "75%      0.351250    0.386175    0.452925    0.535725    0.659425    0.679050   \n",
       "max      0.713100    0.997000    1.000000    0.998800    1.000000    1.000000   \n",
       "\n",
       "               18          19          20          21          22          23  \\\n",
       "count  208.000000  208.000000  208.000000  208.000000  208.000000  208.000000   \n",
       "mean     0.504812    0.563047    0.609060    0.624275    0.646975    0.672654   \n",
       "std      0.257988    0.262653    0.257818    0.255883    0.250175    0.239116   \n",
       "min      0.049400    0.065600    0.051200    0.021900    0.056300    0.023900   \n",
       "25%      0.299075    0.350625    0.399725    0.406925    0.450225    0.540725   \n",
       "50%      0.434950    0.542500    0.617700    0.664900    0.699700    0.698500   \n",
       "75%      0.731400    0.809325    0.816975    0.831975    0.848575    0.872175   \n",
       "max      1.000000    1.000000    1.000000    1.000000    1.000000    1.000000   \n",
       "\n",
       "               24          25          26          27          28          29  \\\n",
       "count  208.000000  208.000000  208.000000  208.000000  208.000000  208.000000   \n",
       "mean     0.675424    0.699866    0.702155    0.694024    0.642074    0.580928   \n",
       "std      0.244926    0.237228    0.245657    0.237189    0.240250    0.220749   \n",
       "min      0.024000    0.092100    0.048100    0.028400    0.014400    0.061300   \n",
       "25%      0.525800    0.544175    0.531900    0.534775    0.463700    0.411400   \n",
       "50%      0.721100    0.754500    0.745600    0.731900    0.680800    0.607150   \n",
       "75%      0.873725    0.893800    0.917100    0.900275    0.852125    0.735175   \n",
       "max      1.000000    1.000000    1.000000    1.000000    1.000000    1.000000   \n",
       "\n",
       "               30          31          32          33          34          35  \\\n",
       "count  208.000000  208.000000  208.000000  208.000000  208.000000  208.000000   \n",
       "mean     0.504475    0.439040    0.417220    0.403233    0.392571    0.384848   \n",
       "std      0.213992    0.213237    0.206513    0.231242    0.259132    0.264121   \n",
       "min      0.048200    0.040400    0.047700    0.021200    0.022300    0.008000   \n",
       "25%      0.345550    0.281400    0.257875    0.217575    0.179375    0.154350   \n",
       "50%      0.490350    0.429600    0.391200    0.351050    0.312750    0.321150   \n",
       "75%      0.641950    0.580300    0.556125    0.596125    0.593350    0.556525   \n",
       "max      0.965700    0.930600    1.000000    0.964700    1.000000    1.000000   \n",
       "\n",
       "               36          37          38          39          40          41  \\\n",
       "count  208.000000  208.000000  208.000000  208.000000  208.000000  208.000000   \n",
       "mean     0.363807    0.339657    0.325800    0.311207    0.289252    0.278293   \n",
       "std      0.239912    0.212973    0.199075    0.178662    0.171111    0.168728   \n",
       "min      0.035100    0.038300    0.037100    0.011700    0.036000    0.005600   \n",
       "25%      0.160100    0.174275    0.173975    0.186450    0.163100    0.158900   \n",
       "50%      0.306300    0.312700    0.283500    0.278050    0.259500    0.245100   \n",
       "75%      0.518900    0.440550    0.434900    0.424350    0.387525    0.384250   \n",
       "max      0.949700    1.000000    0.985700    0.929700    0.899500    0.824600   \n",
       "\n",
       "               42          43          44          45          46          47  \\\n",
       "count  208.000000  208.000000  208.000000  208.000000  208.000000  208.000000   \n",
       "mean     0.246542    0.214075    0.197232    0.160631    0.122453    0.091424   \n",
       "std      0.138993    0.133291    0.151628    0.133938    0.086953    0.062417   \n",
       "min      0.000000    0.000000    0.000000    0.000000    0.000000    0.000000   \n",
       "25%      0.155200    0.126875    0.094475    0.068550    0.064250    0.045125   \n",
       "50%      0.222550    0.177700    0.148000    0.121350    0.101650    0.078100   \n",
       "75%      0.324525    0.271750    0.231550    0.200375    0.154425    0.120100   \n",
       "max      0.773300    0.776200    0.703400    0.729200    0.552200    0.333900   \n",
       "\n",
       "               48          49          50          51          52          53  \\\n",
       "count  208.000000  208.000000  208.000000  208.000000  208.000000  208.000000   \n",
       "mean     0.051929    0.020424    0.016069    0.013420    0.010709    0.010941   \n",
       "std      0.035954    0.013665    0.012008    0.009634    0.007060    0.007301   \n",
       "min      0.000000    0.000000    0.000000    0.000800    0.000500    0.001000   \n",
       "25%      0.026350    0.011550    0.008425    0.007275    0.005075    0.005375   \n",
       "50%      0.044700    0.017900    0.013900    0.011400    0.009550    0.009300   \n",
       "75%      0.068525    0.025275    0.020825    0.016725    0.014900    0.014500   \n",
       "max      0.198100    0.082500    0.100400    0.070900    0.039000    0.035200   \n",
       "\n",
       "               54          55          56          57          58          59  \n",
       "count  208.000000  208.000000  208.000000  208.000000  208.000000  208.000000  \n",
       "mean     0.009290    0.008222    0.007820    0.007949    0.007941    0.006507  \n",
       "std      0.007088    0.005736    0.005785    0.006470    0.006181    0.005031  \n",
       "min      0.000600    0.000400    0.000300    0.000300    0.000100    0.000600  \n",
       "25%      0.004150    0.004400    0.003700    0.003600    0.003675    0.003100  \n",
       "50%      0.007500    0.006850    0.005950    0.005800    0.006400    0.005300  \n",
       "75%      0.012100    0.010575    0.010425    0.010350    0.010325    0.008525  \n",
       "max      0.044700    0.039400    0.035500    0.044000    0.036400    0.043900  "
      ]
     },
     "execution_count": 3,
     "metadata": {},
     "output_type": "execute_result"
    }
   ],
   "source": [
    "# In order to view all columns in the notebbok. Use the following command \n",
    "pd.options.display.max_columns=100\n",
    "# Look at the columnwise summary of the dataset \n",
    "df.describe()"
   ]
  },
  {
   "cell_type": "markdown",
   "metadata": {},
   "source": [
    "<h4>We want to know the unique values of the label/target/dependent variable </h4>"
   ]
  },
  {
   "cell_type": "code",
   "execution_count": 4,
   "metadata": {},
   "outputs": [
    {
     "data": {
      "text/plain": [
       "array(['R', 'M'], dtype=object)"
      ]
     },
     "execution_count": 4,
     "metadata": {},
     "output_type": "execute_result"
    }
   ],
   "source": [
    "df[60].unique()"
   ]
  },
  {
   "cell_type": "markdown",
   "metadata": {},
   "source": [
    "<h4>Examine correlations</h4>"
   ]
  },
  {
   "cell_type": "code",
   "execution_count": 5,
   "metadata": {},
   "outputs": [
    {
     "data": {
      "text/plain": [
       "<matplotlib.collections.PolyCollection at 0x11e48d278>"
      ]
     },
     "execution_count": 5,
     "metadata": {},
     "output_type": "execute_result"
    },
    {
     "data": {
      "image/png": "[encoded data removed]",
      "text/plain": [
       "<Figure size 432x288 with 1 Axes>"
      ]
     },
     "metadata": {},
     "output_type": "display_data"
    }
   ],
   "source": [
    "# Looking at pair wise correlations between all the columns. The red dialgonal line indicates high correlation,\n",
    "# thats because the diagonal line represents a columns correlation with itself i.e 1.   \n",
    "plt.pcolor(df.corr(),cmap='coolwarm')"
   ]
  },
  {
   "cell_type": "code",
   "execution_count": 6,
   "metadata": {},
   "outputs": [
    {
     "data": {
      "text/plain": [
       "<matplotlib.axes._subplots.AxesSubplot at 0x11e4e4dd8>"
      ]
     },
     "execution_count": 6,
     "metadata": {},
     "output_type": "execute_result"
    },
    {
     "data": {
      "image/png": "[encoded data removed]",
      "text/plain": [
       "<Figure size 432x288 with 1 Axes>"
      ]
     },
     "metadata": {},
     "output_type": "display_data"
    }
   ],
   "source": [
    "# This plot shows correlation of the features with the target variable. \n",
    "df.corr()[0].plot()"
   ]
  },
  {
   "cell_type": "markdown",
   "metadata": {},
   "source": [
    "Here are some tips on correlation:\n",
    "*  Highly correlated items are not good\n",
    "*  Low correlated items are good \n",
    "*  Correlations with target: the larger have greater predictive power"
   ]
  },
  {
   "cell_type": "markdown",
   "metadata": {},
   "source": [
    "<h2>Training a classifier on Rocks vs Mines</h2>\n",
    "We will use sklearn package here"
   ]
  },
  {
   "cell_type": "markdown",
   "metadata": {},
   "source": [
    "<h4>Convert labels R and M to 0 and 1</h4>"
   ]
  },
  {
   "cell_type": "code",
   "execution_count": 7,
   "metadata": {
    "collapsed": true
   },
   "outputs": [],
   "source": [
    "df[60]= #Change the code here to convert labels R and M to 0 and 1"
   ]
  },
  {
   "cell_type": "markdown",
   "metadata": {},
   "source": [
    "<h2>Training and testing</h2>\n",
    "<li><span style=\"color:blue\">Training dataset</span>: The model is \"fit\" using a training sample\n",
    "<li><span style=\"color:blue\">Testing dataset</span>: The \"fitted\" model is evaluated on a testing sample\n",
    "<li><span style=\"color:blue\">validation dataset</span>: Sometimes, a dataset is used to \"fine tune\" model parameters after training but before testing"
   ]
  },
  {
   "cell_type": "markdown",
   "metadata": {},
   "source": [
    "Since we do not need to tune our parameters here, we'll use a training and testing dataset"
   ]
  },
  {
   "cell_type": "code",
   "execution_count": 8,
   "metadata": {
    "collapsed": true
   },
   "outputs": [],
   "source": [
    "from sklearn.model_selection import train_test_split\n",
    "#Change the code here to split the dataset into training and test. You can use a 70-30 split for the dataset. "
   ]
  },
  {
   "cell_type": "markdown",
   "metadata": {},
   "source": [
    "<h2>Build the model and fit the training data</h2>\n",
    "<li>The linear regression package is in sklearn's linear_model library\n",
    "<li>We create a linear regression model object\n",
    "<li>And give it our training data to \"fit\" the model\n",
    "<li>Train the linear regression model below"
   ]
  },
  {
   "cell_type": "code",
   "execution_count": 9,
   "metadata": {},
   "outputs": [
    {
     "data": {
      "text/plain": [
       "LinearRegression(copy_X=True, fit_intercept=True, n_jobs=None,\n",
       "         normalize=False)"
      ]
     },
     "execution_count": 9,
     "metadata": {},
     "output_type": "execute_result"
    }
   ],
   "source": [
    "from sklearn import linear_model\n",
    "model = linear_model.LinearRegression()\n",
    "#Add the code here to train the linear regression model "
   ]
  },
  {
   "cell_type": "markdown",
   "metadata": {},
   "source": [
    "<h2>Evaluating the model</h2>"
   ]
  },
  {
   "cell_type": "markdown",
   "metadata": {},
   "source": [
    "<h4>Generate mean square errors and R-Square values</h4>"
   ]
  },
  {
   "cell_type": "code",
   "execution_count": 10,
   "metadata": {},
   "outputs": [
    {
     "name": "stdout",
     "output_type": "stream",
     "text": [
      "Test R-Square: -0.1007334057110516\n",
      "0.07922734726783394 0.26346604571063215\n"
     ]
    }
   ],
   "source": [
    "from sklearn.metrics import mean_squared_error, r2_score\n",
    "y_pred_training = #Add the code here to make predictions on the training data  \n",
    "y_pred_testing =  #Add the code here to make predictions on the test data\n",
    "\n",
    "#Calculating the mean square error on the training dataset \n",
    "training_msq = mean_squared_error(y_pred_training,y_train)\n",
    "#Calculating the mean square error on the test dataset \n",
    "testing_msq = mean_squared_error(y_pred_testing,y_test)\n",
    "print(training_msq,testing_msq)\n",
    "\n",
    "#Calculating the r2 score on the test dataset \n",
    "print('Test R-Square:',r2_score(y_test,y_pred_testing))"
   ]
  },
  {
   "cell_type": "markdown",
   "metadata": {},
   "source": [
    "# The results are terrible\n",
    "But why?\n",
    "<li>Regression is predicting continuous values between 0 and 1\n",
    "<li>But all we need is a 0 (rock) or a 1 (mine)\n",
    "<li>We may not care about mis-identifying rocks as mines as long as we identify mines correctly\n"
   ]
  },
  {
   "cell_type": "code",
   "execution_count": 11,
   "metadata": {
    "collapsed": true
   },
   "outputs": [],
   "source": [
    "# import required packages \n",
    "from sklearn.linear_model import LogisticRegression\n",
    "from sklearn.metrics import accuracy_score"
   ]
  },
  {
   "cell_type": "markdown",
   "metadata": {},
   "source": [
    "Build up the Logistic regression model"
   ]
  },
  {
   "cell_type": "code",
   "execution_count": 12,
   "metadata": {
    "collapsed": true
   },
   "outputs": [],
   "source": [
    "classifier = LogisticRegression(solver = 'lbfgs')"
   ]
  },
  {
   "cell_type": "markdown",
   "metadata": {},
   "source": [
    "Train the model with training data"
   ]
  },
  {
   "cell_type": "code",
   "execution_count": 13,
   "metadata": {},
   "outputs": [
    {
     "data": {
      "text/plain": [
       "LogisticRegression(C=1.0, class_weight=None, dual=False, fit_intercept=True,\n",
       "          intercept_scaling=1, max_iter=100, multi_class='warn',\n",
       "          n_jobs=None, penalty='l2', random_state=None, solver='lbfgs',\n",
       "          tol=0.0001, verbose=0, warm_start=False)"
      ]
     },
     "execution_count": 13,
     "metadata": {},
     "output_type": "execute_result"
    }
   ],
   "source": [
    "# Insert code here to train the logistic regression model"
   ]
  },
  {
   "cell_type": "markdown",
   "metadata": {},
   "source": [
    "Predict the labels on training and testing data"
   ]
  },
  {
   "cell_type": "code",
   "execution_count": 14,
   "metadata": {
    "collapsed": true
   },
   "outputs": [],
   "source": [
    "y_train_pre = classifier.predict(x_train)\n",
    "y_test_pre = classifier.predict(x_test)"
   ]
  },
  {
   "cell_type": "code",
   "execution_count": 15,
   "metadata": {},
   "outputs": [
    {
     "name": "stdout",
     "output_type": "stream",
     "text": [
      "Accuracy for training data (self accuracy): 0.8689655172413793\n",
      "Accuracy for testing data (self accuracy): 0.7777777777777778\n"
     ]
    }
   ],
   "source": [
    "train_accuracy = #Insert code here to measure the accuracy on training data \n",
    "print(\"Accuracy for training data (self accuracy):\", train_accuracy)\n",
    "\n",
    "test_accuracy = #Insert code here to measure the accuracy on test data \n",
    "print(\"Accuracy for testing data (self accuracy):\", test_accuracy)"
   ]
  },
  {
   "cell_type": "markdown",
   "metadata": {},
   "source": [
    "As you can see, we see a much better accuracy using the logistic regression model. \n"
   ]
  },
  {
   "cell_type": "markdown",
   "metadata": {},
   "source": [
    "# Conclusions:\n",
    "*  Using losgistic regression when the labels are discrete\n",
    "*  linear regression should not be used for a classification task\n",
    "*  logistic regression is one of the most simplest models in classification problems"
   ]
  },
  {
   "cell_type": "markdown",
   "metadata": {},
   "source": [
    "# Congratulations!"
   ]
  }
 ],
 "metadata": {
  "kernelspec": {
   "display_name": "Python 3",
   "language": "python",
   "name": "python3"
  },
  "language_info": {
   "codemirror_mode": {
    "name": "ipython",
    "version": 3
   },
   "file_extension": ".py",
   "mimetype": "text/x-python",
   "name": "python",
   "nbconvert_exporter": "python",
   "pygments_lexer": "ipython3",
   "version": "3.6.1"
  }
 },
 "nbformat": 4,
 "nbformat_minor": 2
}
